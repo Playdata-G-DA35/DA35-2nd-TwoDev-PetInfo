{
 "cells": [
  {
   "cell_type": "code",
   "execution_count": 1,
   "metadata": {},
   "outputs": [],
   "source": [
    "from webdriver_manager.chrome import ChromeDriverManager"
   ]
  },
  {
   "cell_type": "code",
   "execution_count": 2,
   "metadata": {},
   "outputs": [
    {
     "name": "stdout",
     "output_type": "stream",
     "text": [
      "<class 'str'>\n",
      "C:\\Users\\USER\\.wdm\\drivers\\chromedriver\\win64\\123.0.6312.86\\chromedriver-win32/chromedriver.exe\n"
     ]
    }
   ],
   "source": [
    "driver_path = ChromeDriverManager().install()\n",
    "print(type(driver_path))\n",
    "print(driver_path) ## 여기에 크롬 드라이버가 있다"
   ]
  },
  {
   "cell_type": "code",
   "execution_count": 29,
   "metadata": {},
   "outputs": [],
   "source": [
    "from selenium.webdriver.chrome.service import Service\n",
    "from selenium import webdriver\n",
    "from selenium.webdriver.common.by import By\n",
    "from selenium.webdriver.common.keys import Keys\n",
    "from bs4 import BeautifulSoup\n",
    "import requests\n",
    "import pandas as pd\n",
    "import time"
   ]
  },
  {
   "cell_type": "code",
   "execution_count": 38,
   "metadata": {},
   "outputs": [
    {
     "data": {
      "text/plain": [
       "'c:\\\\classes\\\\project\\\\mini-project\\\\DA35-2nd-TwoDev-PetInfo\\\\work_py'"
      ]
     },
     "execution_count": 38,
     "metadata": {},
     "output_type": "execute_result"
    }
   ],
   "source": [
    "import os\n",
    "# os.chdir(r\"c:\\test\")\n",
    "# base_dir = r\"c:\\test\"\n",
    "os.getcwd()"
   ]
  },
  {
   "cell_type": "code",
   "execution_count": 39,
   "metadata": {},
   "outputs": [
    {
     "name": "stdout",
     "output_type": "stream",
     "text": [
      "https://www.akc.org/dog-breeds/French-Bulldog\n",
      "https://www.akc.org/wp-content/uploads/2017/11/French-Bulldog-Illo-2.jpg\n",
      "The one-of-a-kind French Bulldog, with his large bat ears and even disposition, is one of the world's most popular small-dog breeds, especially among city dwellers. The Frenchie is playful, alert, adaptable, and completely irresistible.\n",
      "The French Bulldog resembles a Bulldog in miniature, except for the large, erect 'bat ears' that are the breed's trademark feature. The head is large and square, with heavy wrinkles rolled above the extremely short nose. The body beneath the smooth, brilliant coat is compact and muscular. The bright, affectionate Frenchie is a charmer. Dogs of few words, Frenchies don't bark much, but their alertness makes them excellent watchdogs. They happily adapt to life with singles, couples, or families, and do not require a lot of outdoor exercise. They get on well with other animals and enjoy making new friends of the human variety. It is no wonder that city folk from Paris to Peoria swear by this vastly amusing and companionable breed.\n",
      "https://www.akc.org/dog-breeds/Labrador-Retriever\n",
      "팝업 없음\n",
      "https://www.akc.org/wp-content/uploads/2017/11/Labrador-Retriever-illustration.jpg\n",
      "The sweet-faced, lovable Labrador Retriever is one of America's most popular dog breeds, year after year. Labs are friendly, outgoing, and high-spirited companions who have more than enough affection to go around for a family looking for a medium-to-large dog.\n",
      "The sturdy, well-balanced Labrador Retriever can, depending on the sex, stand from 21.5 to 24.5 inches at the shoulder and weigh between 55 to 80 pounds. The dense, hard coat comes in yellow, black, and a luscious chocolate. The head is wide, the eyes glimmer with kindliness, and the thick, tapering 'otter tail' seems to be forever signaling the breed's innate eagerness. Labs are famously friendly. They are companionable housemates who bond with the whole family, and they socialize well with neighbor dogs and humans alike. But don't mistake his easygoing personality for low energy: The Lab is an enthusiastic athlete that requires lots of exercise, like swimming and marathon games of fetch, to keep physically and mentally fit.\n"
     ]
    }
   ],
   "source": [
    "\n"
   ]
  },
  {
   "cell_type": "code",
   "execution_count": 69,
   "metadata": {},
   "outputs": [
    {
     "name": "stdout",
     "output_type": "stream",
     "text": [
      "https://www.akc.org/dog-breeds/French-Bulldog\n",
      "https://www.akc.org/wp-content/uploads/2017/11/French-Bulldog-Illo-2.jpg\n",
      "견종정보:  <selenium.webdriver.remote.webelement.WebElement (session=\"e0484711c5eb8c14ebdcb438e993707f\", element=\"f.135AC0A5BAA0998B184A93418C865F75.d.26DF48E6AA9E7BA0675B4A64CB21D98B.e.145\")>\n",
      "The one-of-a-kind French Bulldog, with his large bat ears and even disposition, is one of the world's most popular small-dog breeds, especially among city dwellers. The Frenchie is playful, alert, adaptable, and completely irresistible.\n",
      "The French Bulldog resembles a Bulldog in miniature, except for the large, erect 'bat ears' that are the breed's trademark feature. The head is large and square, with heavy wrinkles rolled above the extremely short nose. The body beneath the smooth, brilliant coat is compact and muscular. The bright, affectionate Frenchie is a charmer. Dogs of few words, Frenchies don't bark much, but their alertness makes them excellent watchdogs. They happily adapt to life with singles, couples, or families, and do not require a lot of outdoor exercise. They get on well with other animals and enjoy making new friends of the human variety. It is no wonder that city folk from Paris to Peoria swear by this vastly amusing and companionable breed.\n",
      "https://www.akc.org/dog-breeds/Labrador-Retriever\n",
      "팝업 없음\n",
      "https://www.akc.org/wp-content/uploads/2017/11/Labrador-Retriever-illustration.jpg\n",
      "견종정보:  <selenium.webdriver.remote.webelement.WebElement (session=\"e0484711c5eb8c14ebdcb438e993707f\", element=\"f.135AC0A5BAA0998B184A93418C865F75.d.0CF3E574E7E704D78073B52751AB07CB.e.253\")>\n",
      "The sweet-faced, lovable Labrador Retriever is one of America's most popular dog breeds, year after year. Labs are friendly, outgoing, and high-spirited companions who have more than enough affection to go around for a family looking for a medium-to-large dog.\n",
      "The sturdy, well-balanced Labrador Retriever can, depending on the sex, stand from 21.5 to 24.5 inches at the shoulder and weigh between 55 to 80 pounds. The dense, hard coat comes in yellow, black, and a luscious chocolate. The head is wide, the eyes glimmer with kindliness, and the thick, tapering 'otter tail' seems to be forever signaling the breed's innate eagerness. Labs are famously friendly. They are companionable housemates who bond with the whole family, and they socialize well with neighbor dogs and humans alike. But don't mistake his easygoing personality for low energy: The Lab is an enthusiastic athlete that requires lots of exercise, like swimming and marathon games of fetch, to keep physically and mentally fit.\n"
     ]
    }
   ],
   "source": [
    "service = Service(executable_path=driver_path)\n",
    "browser = webdriver.Chrome(service=service)#이것이 웹브라우저를 컨트롤 하므로 그냥 브라우져라고 생각해도 됨\n",
    "\n",
    "#브라우저 뜰때까지 5초 대기\n",
    "browser.implicitly_wait(5)\n",
    "\n",
    "# 특정 url로 이동\n",
    "dog_breeds_url = \"https://www.akc.org/dog-breeds/{}\"\n",
    "\n",
    "popup_close_selector = \"body > div.fancybox-overlay.fancybox-overlay-fixed > div > div > a\"\n",
    "breed_img_seletor = \"body > div.cmw.bgc-white.page-single-breed > div:nth-child(2) > div > div.breed-page__sectional-wrapper > div.breed-page__sectional-standard-marking-wrapper > div.breed-page__section.breed-page__section--small.breed-page__standard.my4.bpm-my6 > div > div.breed-page__standard__image > img\"\n",
    "breed_info_selector = \"body > div.cmw.bgc-white.page-single-breed > div:nth-child(2) > div > div.breed-page__about > div > div > div > div.breed-page__about__read-more__text__less\"\n",
    "# 파일에서 읽어온 견종을 dog_breeds_list에 담는다\n",
    "data_path = r\"..\\work_csv\\test_data.csv\"\n",
    "df = pd.read_csv(data_path)\n",
    "dog_breeds_list = df['Breed']\n",
    "urls = [dog_breeds_url.format(breed) for breed in dog_breeds_list]\n",
    "img_src_list = []\n",
    "breed_info_all = []\n",
    "for idx, url in enumerate(urls, start=1):\n",
    "    print(url)\n",
    "    browser.get(url)\n",
    "    browser.implicitly_wait(5)\n",
    "\n",
    "    #pop up 닫기\n",
    "    try:\n",
    "        close_btn = browser.find_element(By.CSS_SELECTOR, popup_close_selector)\n",
    "        if close_btn != None:\n",
    "            close_btn.click()\n",
    "    except:\n",
    "        print(\"팝업 없음\")\n",
    "\n",
    "    # 견종 이미지 url 가져오기\n",
    "    # df['img-src'] = urls\n",
    "    \n",
    "    breeds_image_ele = browser.find_element(By.CSS_SELECTOR, breed_img_seletor)\n",
    "    if breeds_image_ele != None:\n",
    "        img_src = breeds_image_ele.get_attribute(\"data-src\")\n",
    "        img_src_list.append(img_src)\n",
    "        print(img_src)\n",
    "        # 이미지 다운로드\n",
    "        res = requests.get(img_src) #user-agent 없어도 됨\n",
    "        split_file_name = img_src.split(\"/\")[-1]\n",
    "        if res.status_code == 200:\n",
    "            file = res.content\n",
    "            file_name = \"..\\work_img\\{0}_{1}\".format(idx, split_file_name)\n",
    "            with open(file_name, \"wb\") as fo:\n",
    "                fo.write(file)\n",
    "\n",
    "    # 견종정보 가져오기\n",
    "    breeds_info_ele = browser.find_elements(By.CSS_SELECTOR, breed_info_selector)\n",
    "    # print(\"요소길이: \", len(breeds_image_ele))\n",
    "    print(\"견종정보: \", breeds_info_ele[0])\n",
    "    breed_info_list = \"\"\n",
    "    for info in breeds_info_ele:\n",
    "        print(info.text)\n",
    "        breed_info_list += info.text\n",
    "        \n",
    "    breed_info_all.append(breed_info_list)\n",
    "    time.sleep(4)\n",
    "\n",
    "df['Img_src'] = img_src_list\n",
    "df['Breed_info'] = breed_info_all\n",
    "df.to_csv(r\"..\\work_csv\\happy_puppy_info.csv\", index=False)\n",
    "browser.close()\n"
   ]
  },
  {
   "cell_type": "code",
   "execution_count": null,
   "metadata": {},
   "outputs": [],
   "source": [
    "\n",
    "\n"
   ]
  }
 ],
 "metadata": {
  "kernelspec": {
   "display_name": "env",
   "language": "python",
   "name": "python3"
  },
  "language_info": {
   "codemirror_mode": {
    "name": "ipython",
    "version": 3
   },
   "file_extension": ".py",
   "mimetype": "text/x-python",
   "name": "python",
   "nbconvert_exporter": "python",
   "pygments_lexer": "ipython3",
   "version": "3.11.8"
  }
 },
 "nbformat": 4,
 "nbformat_minor": 2
}
