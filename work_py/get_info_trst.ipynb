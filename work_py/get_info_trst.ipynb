{
 "cells": [
  {
   "cell_type": "code",
   "execution_count": 77,
   "metadata": {},
   "outputs": [],
   "source": [
    "from webdriver_manager.chrome import ChromeDriverManager"
   ]
  },
  {
   "cell_type": "code",
   "execution_count": 80,
   "metadata": {},
   "outputs": [
    {
     "name": "stdout",
     "output_type": "stream",
     "text": [
      "<class 'str'>\n",
      "C:\\Users\\USER\\.wdm\\drivers\\chromedriver\\win64\\123.0.6312.86\\chromedriver.exe\n"
     ]
    }
   ],
   "source": [
    "driver_path = ChromeDriverManager().install()\n",
    "print(type(driver_path))\n",
    "print(driver_path) ## 여기에 크롬 드라이버가 있다"
   ]
  },
  {
   "cell_type": "code",
   "execution_count": 81,
   "metadata": {},
   "outputs": [],
   "source": [
    "from selenium.webdriver.chrome.service import Service\n",
    "from selenium import webdriver\n",
    "from selenium.webdriver.common.by import By\n",
    "from selenium.webdriver.common.keys import Keys\n",
    "from bs4 import BeautifulSoup\n",
    "import requests\n",
    "import pandas as pd\n",
    "import time\n",
    "from petrank import get_rankname"
   ]
  },
  {
   "cell_type": "code",
   "execution_count": 38,
   "metadata": {},
   "outputs": [
    {
     "data": {
      "text/plain": [
       "'c:\\\\classes\\\\project\\\\mini-project\\\\DA35-2nd-TwoDev-PetInfo\\\\work_py'"
      ]
     },
     "execution_count": 38,
     "metadata": {},
     "output_type": "execute_result"
    }
   ],
   "source": [
    "import os\n",
    "# os.chdir(r\"c:\\test\")\n",
    "# base_dir = r\"c:\\test\"\n",
    "os.getcwd()"
   ]
  },
  {
   "cell_type": "code",
   "execution_count": 39,
   "metadata": {},
   "outputs": [
    {
     "name": "stdout",
     "output_type": "stream",
     "text": [
      "https://www.akc.org/dog-breeds/French-Bulldog\n",
      "https://www.akc.org/wp-content/uploads/2017/11/French-Bulldog-Illo-2.jpg\n",
      "The one-of-a-kind French Bulldog, with his large bat ears and even disposition, is one of the world's most popular small-dog breeds, especially among city dwellers. The Frenchie is playful, alert, adaptable, and completely irresistible.\n",
      "The French Bulldog resembles a Bulldog in miniature, except for the large, erect 'bat ears' that are the breed's trademark feature. The head is large and square, with heavy wrinkles rolled above the extremely short nose. The body beneath the smooth, brilliant coat is compact and muscular. The bright, affectionate Frenchie is a charmer. Dogs of few words, Frenchies don't bark much, but their alertness makes them excellent watchdogs. They happily adapt to life with singles, couples, or families, and do not require a lot of outdoor exercise. They get on well with other animals and enjoy making new friends of the human variety. It is no wonder that city folk from Paris to Peoria swear by this vastly amusing and companionable breed.\n",
      "https://www.akc.org/dog-breeds/Labrador-Retriever\n",
      "팝업 없음\n",
      "https://www.akc.org/wp-content/uploads/2017/11/Labrador-Retriever-illustration.jpg\n",
      "The sweet-faced, lovable Labrador Retriever is one of America's most popular dog breeds, year after year. Labs are friendly, outgoing, and high-spirited companions who have more than enough affection to go around for a family looking for a medium-to-large dog.\n",
      "The sturdy, well-balanced Labrador Retriever can, depending on the sex, stand from 21.5 to 24.5 inches at the shoulder and weigh between 55 to 80 pounds. The dense, hard coat comes in yellow, black, and a luscious chocolate. The head is wide, the eyes glimmer with kindliness, and the thick, tapering 'otter tail' seems to be forever signaling the breed's innate eagerness. Labs are famously friendly. They are companionable housemates who bond with the whole family, and they socialize well with neighbor dogs and humans alike. But don't mistake his easygoing personality for low energy: The Lab is an enthusiastic athlete that requires lots of exercise, like swimming and marathon games of fetch, to keep physically and mentally fit.\n"
     ]
    }
   ],
   "source": [
    "\n"
   ]
  },
  {
   "cell_type": "code",
   "execution_count": 82,
   "metadata": {},
   "outputs": [
    {
     "name": "stdout",
     "output_type": "stream",
     "text": [
      "https://www.akc.org/dog-breeds/French-Bulldog\n",
      "https://www.akc.org/wp-content/uploads/2017/11/French-Bulldog-Illo-2.jpg\n",
      "견종정보:  <selenium.webdriver.remote.webelement.WebElement (session=\"faa03f1ef95b0624eed2e39908bc0810\", element=\"f.9DF7610DAF251706DE5DA088FEE0EA53.d.78A2B89397B9EB0F3F710316A81BA550.e.141\")>\n",
      "The one-of-a-kind French Bulldog, with his large bat ears and even disposition, is one of the world's most popular small-dog breeds, especially among city dwellers. The Frenchie is playful, alert, adaptable, and completely irresistible.\n",
      "The French Bulldog resembles a Bulldog in miniature, except for the large, erect 'bat ears' that are the breed's trademark feature. The head is large and square, with heavy wrinkles rolled above the extremely short nose. The body beneath the smooth, brilliant coat is compact and muscular. The bright, affectionate Frenchie is a charmer. Dogs of few words, Frenchies don't bark much, but their alertness makes them excellent watchdogs. They happily adapt to life with singles, couples, or families, and do not require a lot of outdoor exercise. They get on well with other animals and enjoy making new friends of the human variety. It is no wonder that city folk from Paris to Peoria swear by this vastly amusing and companionable breed.\n",
      "https://www.akc.org/dog-breeds/Labrador-Retriever\n",
      "팝업 없음\n",
      "https://www.akc.org/wp-content/uploads/2017/11/Labrador-Retriever-illustration.jpg\n",
      "견종정보:  <selenium.webdriver.remote.webelement.WebElement (session=\"faa03f1ef95b0624eed2e39908bc0810\", element=\"f.9DF7610DAF251706DE5DA088FEE0EA53.d.3AD2250BFFD75608833EDB1552C615A9.e.245\")>\n",
      "The sweet-faced, lovable Labrador Retriever is one of America's most popular dog breeds, year after year. Labs are friendly, outgoing, and high-spirited companions who have more than enough affection to go around for a family looking for a medium-to-large dog.\n",
      "The sturdy, well-balanced Labrador Retriever can, depending on the sex, stand from 21.5 to 24.5 inches at the shoulder and weigh between 55 to 80 pounds. The dense, hard coat comes in yellow, black, and a luscious chocolate. The head is wide, the eyes glimmer with kindliness, and the thick, tapering 'otter tail' seems to be forever signaling the breed's innate eagerness. Labs are famously friendly. They are companionable housemates who bond with the whole family, and they socialize well with neighbor dogs and humans alike. But don't mistake his easygoing personality for low energy: The Lab is an enthusiastic athlete that requires lots of exercise, like swimming and marathon games of fetch, to keep physically and mentally fit.\n"
     ]
    }
   ],
   "source": [
    "result = get_rankname()\n",
    "file_path = f\"../work_csv/happy_puppy.csv\"\n",
    "result_df = pd.DataFrame(result)\n",
    "result_df.to_csv(file_path, index=False, header=False) \n"
   ]
  },
  {
   "cell_type": "code",
   "execution_count": 85,
   "metadata": {},
   "outputs": [
    {
     "name": "stdout",
     "output_type": "stream",
     "text": [
      "https://www.akc.org/dog-breeds/Bichon-Frise\n",
      "https://www.akc.org/wp-content/uploads/2017/11/Bichon-Frise-Illo-2.jpg\n",
      "견종정보:  <selenium.webdriver.remote.webelement.WebElement (session=\"1faeec503d31742f18fdd3e2c8e901e9\", element=\"f.E85A1CCDF1754D571C5DD3DC0588FA5A.d.633CE08BA96D4DF2AF71D7BB7C3D9254.e.150\")>\n",
      "The small but sturdy and resilient Bichon Frise stands among the world's great 'personality dogs.' Since antiquity, these irresistible canine comedians have relied on charm, beauty, and intelligence to weather history's ups and downs. A good-size Bichon will stand a shade under a foot tall at the shoulder. The breed's glory is a white hypoallergenic coat, plush and velvety to the touch, featuring rounded head hair that sets off the large, dark eyes and black leathers of the nose and lips. Bichons are adaptable companions who get on well with other dogs and children. Alert and curious, Bichons make nice little watchdogs'but they are lovers, not fighters, and operate under the assumption that there are no strangers, just friends they haven't met yet. Their confidence and size make them ideal city dogs. Bichons train nicely and enjoy performing for their loved ones. Finally, there's the happy-go-lucky Bichon personality that draws smiles and hugs wherever they go.\n",
      "https://www.akc.org/dog-breeds/Papillion\n",
      "팝업 없음\n",
      "견종정보 못찾음\n",
      "https://www.akc.org/dog-breeds/Shiba-Inu\n",
      "팝업 없음\n",
      "https://www.akc.org/wp-content/uploads/2017/11/Shiba-Inu-Illo-2.jpg\n",
      "견종정보:  <selenium.webdriver.remote.webelement.WebElement (session=\"1faeec503d31742f18fdd3e2c8e901e9\", element=\"f.E85A1CCDF1754D571C5DD3DC0588FA5A.d.68728BA5E5935219D394EA4D629151BE.e.329\")>\n",
      "An ancient Japanese breed, the Shiba Inu is a little but well-muscled dog once employed as a hunter. Today, the spirited, good-natured Shiba is the most popular companion dog in Japan. The adaptable Shiba is at home in town or country. Brought to America from Japan as recently as 60 years ago, Shibas are growing in popularity in the West and are already the most popular breed in their homeland. Their white markings combined with their coloring (red, red sesame, or black and tan) and their alert expression and smooth stride makes them almost foxlike. They're sturdy, muscular dogs with a bold, confident personality to match.\n",
      "https://www.akc.org/dog-breeds/Dalmatian\n",
      "팝업 없음\n",
      "https://www.akc.org/wp-content/uploads/2017/11/Dalmatian-Illo-2.jpg\n",
      "견종정보:  <selenium.webdriver.remote.webelement.WebElement (session=\"1faeec503d31742f18fdd3e2c8e901e9\", element=\"f.E85A1CCDF1754D571C5DD3DC0588FA5A.d.86F9BC4AA317AD2B9313AD0252F399AA.e.436\")>\n",
      "The dignified Dalmatian, dogdom's citizen of the world, is famed for his spotted coat and unique job description. During their long history, these \"coach dogs\" have accompanied the horse-drawn rigs of nobles, gypsies, and firefighters. The Dalmatian's delightful, eye-catching spots of black or liver adorn one of the most distinctive coats in the animal kingdom. Beneath the spots is a graceful, elegantly proportioned trotting dog standing between 19 and 23 inches at the shoulder. Dals are muscular, built to go the distance; the powerful hindquarters provide the drive behind the smooth, effortless gait. The Dal was originally bred to guard horses and coaches, and some of the old protective instinct remains. Reserved and dignified, Dals can be aloof with strangers and are dependable watchdogs. With their preferred humans, Dals are bright, loyal, and loving house dogs. They are strong, active athletes with great stamina'a wonderful partner for runners and hikers.\n",
      "https://www.akc.org/dog-breeds/Weimaraner\n",
      "팝업 없음\n",
      "https://www.akc.org/wp-content/uploads/2017/11/Weimaraner-Illo.jpg\n",
      "견종정보:  <selenium.webdriver.remote.webelement.WebElement (session=\"1faeec503d31742f18fdd3e2c8e901e9\", element=\"f.E85A1CCDF1754D571C5DD3DC0588FA5A.d.49FC0DE8DE1391238E89369D203FA0F8.e.530\")>\n",
      "The Weimaraner, Germany's sleek and swift 'Gray Ghost,' is beloved by hunters and pet owners alike for their friendliness, obedience, and beauty. They enjoy exercise, and plenty of it, along with lots of quality time with their humans. Instantly recognized by a distinctive silvery-gray coat, male Weimaraners stand 25 to 27 inches at the shoulder, and females 23 to 25 inches. A properly bred Weimaraner will be solid colored, with maybe a small white spot on the chest. The face, with its amber or blue-gray eyes framed by long velvety ears, is amiable and intelligent. Overall, the breed presents a picture of streamlined grace and balance. A well-conditioned Weimaraner on point is a breathtaking sight. Weimaraners are excellent with kids and yearn to be full-fledged family members. Easy grooming, trainability, a loving nature, and a can-do-attitude make them excellent pets, as long as owners are committed to keeping them physically active and mentally engaged.\n",
      "https://www.akc.org/dog-breeds/Portuguese-Water-Dog\n",
      "팝업 없음\n",
      "https://www.akc.org/wp-content/uploads/2017/11/Portuguese-Water-Dog-Illo-2.jpg\n",
      "견종정보:  <selenium.webdriver.remote.webelement.WebElement (session=\"1faeec503d31742f18fdd3e2c8e901e9\", element=\"f.E85A1CCDF1754D571C5DD3DC0588FA5A.d.3E2142C19F2AD0FE20F168F8535E6908.e.634\")>\n",
      "The bright and biddable Portuguese Water Dog was bred to be an all-around fisherman's helper. The robust, medium-sized body is covered by a coat of tight, low-shedding curls. PWDs are eager and athletic companions built for water work.\n",
      "The Portuguese Water Dog is super-smart and very 'biddable', meaning he's easy to train and eager to please. The PWD can be groomed in two styles: The retriever clip (the entire coat is clipped to one inch in length, with the tail tip at full length) or the more check-me-out lion clip, where the coat is on the hindquarters and muzzle is clipped down to the skin.\n",
      "https://www.akc.org/dog-breeds/Samoyed\n",
      "팝업 없음\n",
      "https://www.akc.org/wp-content/uploads/2017/11/Samoyed-illo.jpg\n",
      "견종정보:  <selenium.webdriver.remote.webelement.WebElement (session=\"1faeec503d31742f18fdd3e2c8e901e9\", element=\"f.E85A1CCDF1754D571C5DD3DC0588FA5A.d.21D5EC2215ADBAD30CC1673F51D33844.e.730\")>\n",
      "The Samoyed is a substantial but graceful dog standing anywhere from 19 to a bit over 23 inches at the shoulder. Powerful, tireless, with a thick all-white coat impervious to cold, Sammies are perfectly beautiful but highly functional. Even their most delightful feature, a perpetual smile, has a practical function: The upturned corners of the mouth keep Sammies from drooling, preventing icicles from forming on the face.  A Sammy sentenced to solitary confinement in the yard is a miserable and destructive creature. These are smart, social, mischievous dogs who demand love and attention. Sammies need structure in training. Teach them what's expected of them early, and practice it with them often.\n",
      "Samoyeds, the smiling sled dogs, were bred for hard work in the world's coldest locales. In the Siberian town of Oymyakon, for instance, temperatures of minus-60 degrees are common. The Sammy's famous white coat is thick enough to protect against such brutal conditions. Powerful, agile, tireless, impervious to cold, Sammies are drop-dead gorgeous but highly functional. Even their most delightful feature, a perpetual smile, has a practical function: The mouth's upturned corners keep Sammies from drooling, preventing icicles from forming on the face.\n",
      "https://www.akc.org/dog-breeds/Whippet\n",
      "팝업 없음\n",
      "https://www.akc.org/wp-content/uploads/2017/11/Whippet-Illo-2.jpg\n",
      "견종정보:  <selenium.webdriver.remote.webelement.WebElement (session=\"1faeec503d31742f18fdd3e2c8e901e9\", element=\"f.E85A1CCDF1754D571C5DD3DC0588FA5A.d.9E0944BB0C19492142D8E320092294DE.e.824\")>\n",
      "The sleek, sweet-faced Whippet, the 'Poor Man's Racehorse,' is lightning quick. He is an amiable, dignified, and gentle soul, but give him something to chase and he's all business. The name Whippet is synonymous with streamlined grace. At somewhere between 18 and 22 inches at the shoulder, the Whippet looks like a Greyhound, but smaller. The Whippet exhibits the classic 'inverted S' lines of the sighthound. The deep chest and trim waist; a lean head supported by a long, arched neck; and slim but sturdy legs combine in a picture of an agile, fleet-footed athlete. Between bursts of intense pursuit, Whippets love to stretch out and relax for long hours, enjoying the role of a loving, and loved, companion. Whippets like a fenced yard to run in, but they do nicely in cozy apartments too'as long as they are exercised properly. Another plus for city dwellers: Whippets rarely bark. Despite the breed's elegant looks, the Whippet is a robust, low-maintenance dog.\n",
      "https://www.akc.org/dog-breeds/Australian-Cattle-Dog\n",
      "팝업 없음\n",
      "https://www.akc.org/wp-content/uploads/2017/11/Australian-Cattle-Dog-Illo-2.jpg\n",
      "견종정보:  <selenium.webdriver.remote.webelement.WebElement (session=\"1faeec503d31742f18fdd3e2c8e901e9\", element=\"f.E85A1CCDF1754D571C5DD3DC0588FA5A.d.A9EA0425F86B440AA6A615822DC525F5.e.926\")>\n",
      "The compact but muscular Australian Cattle Dog, also called Blue or Red Heeler or Queensland Heeler, is related to Australia's famous wild dog, the Dingo. These resilient herders are intelligent enough to routinely outsmart their owners. Standing between 17 to 20 inches at the shoulder, the Australian Cattle Dog is a sturdy, hard-muscled herder of strength and agility. The ACD is born with a white coat that turns either blue-gray or red. Both coat colors may feature distinctive mottling or speckling patterns. ACDs have immense work drive and excel at controlling and, of course, moving livestock. Their boundless energy and supple gait make them excellent running partners. ACDs are true-blue loyal, famously smart, tenacious, ever alert, and may be wary of strangers. If an ACD isn't challenged, it easily becomes bored and may get into mischief. It is recommended that ACD owners participate with these versatile dogs in some work, sport, or regular exercise to keep them mentally and physically fit.\n",
      "Standing between 17 to 20 inches at the shoulder, the Australian Cattle Dog is a sturdy, hard-muscled herder of strength and agility. The ACD is born with a white coat that turns blue-gray or red. Both coat varieties feature distinctive mottling or specking patterns. ACDs have immense work drive and excel at hunting, chasing, and, of course, moving livestock. Their boundless energy and supple gait make them excellent running partners.   ACDs are true-blue loyal, famously smart, ever alert, and wary of strangers. If an ACD isn't challenged, he easily becomes bored and gets into mischief. It is recommended that ACD owners participate with their dog in some work, sport, or regular exercise to keep him mentally and physically fit.\n",
      "https://www.akc.org/dog-breeds/Bloodhound\n",
      "팝업 없음\n",
      "https://www.akc.org/wp-content/uploads/2017/11/Bloodhound-Illo-2.jpg\n",
      "견종정보:  <selenium.webdriver.remote.webelement.WebElement (session=\"1faeec503d31742f18fdd3e2c8e901e9\", element=\"f.E85A1CCDF1754D571C5DD3DC0588FA5A.d.4D5FB0979AB30488A199256D21B83AF2.e.1035\")>\n",
      "The world-famous 'Sleuth Hound' does one thing better than any creature on earth: find people who are lost or hiding. An off-duty Bloodhound is among the canine kingdom's most docile citizens, but he's relentless and stubborn on a scent.\n",
      "Bloodhounds are large, substantial dogs standing 23 to 27 inches at the shoulder and weighing up to 110 pounds. Their most famous features are a long, wrinkled face with loose skin; huge, drooping ears; and warm, deep-set eyes that complete an expression of solemn dignity. Coat colors can be black and tan, liver and tan, or red. Powerful legs allow Bloodhounds to scent over miles of punishing terrain. As pack dogs, Bloodhounds enjoy company, including other dogs and kids. They are easygoing, but their nose can sometimes lead them into trouble. A strong leash and long walks in places where they can enjoy sniffing around are recommended. Bloodhounds are droolers, and obedience training these sensitive sleuths can be a challenge.\n",
      "https://www.akc.org/dog-breeds/Chesapeake-Bay-Retriever\n",
      "팝업 없음\n",
      "https://www.akc.org/wp-content/uploads/2017/11/Chesapeake-Bay-Retriever-Illo-2.jpg\n",
      "견종정보:  <selenium.webdriver.remote.webelement.WebElement (session=\"1faeec503d31742f18fdd3e2c8e901e9\", element=\"f.E85A1CCDF1754D571C5DD3DC0588FA5A.d.E0F5C60CC4E24F8803FE87DBCE71F698.e.1130\")>\n",
      "The Chesapeake Bay Retriever, peerless duck dog of the Mid-Atlantic, is an American original who embodies the classic traits of a good retriever: loyal, upbeat, affectionate, and tireless. The Chessie is famous for his waterproof coat. Chessies are strong, powerfully built gundogs standing anywhere from 21 to 26 inches at the shoulder. A male can weigh up to 80 pounds. The distinctive breed trait is a wavy coat that is oily to the touch. Chessies are solid-colored, either chocolatey brown, sedge, or deadgrass, with keen yellow-amber eyes that nicely complement the coat. Chessies are more emotionally complex than the usual gundog. Chessies take to training, but they have a mind of their own and can tenaciously pursue their own path. They are protective of their humans and polite, but not overtly friendly, to strangers. Chessies make excellent watchdogs and are versatile athletes. A well-socialized Chessie is a confident companion and world-class hunting buddy.\n",
      "https://www.akc.org/dog-breeds/Saint-Bernard\n",
      "견종정보 못찾음\n",
      "https://www.akc.org/dog-breeds/Giant-Schnauzer\n"
     ]
    },
    {
     "ename": "NoSuchWindowException",
     "evalue": "Message: no such window: target window already closed\nfrom unknown error: web view not found\n  (Session info: chrome=123.0.6312.86)\nStacktrace:\n\tGetHandleVerifier [0x012D4CC3+225091]\n\t(No symbol) [0x01204E11]\n\t(No symbol) [0x010A9A7A]\n\t(No symbol) [0x0108E312]\n\t(No symbol) [0x0110517B]\n\t(No symbol) [0x011155A6]\n\t(No symbol) [0x010FF2F6]\n\t(No symbol) [0x010D79B9]\n\t(No symbol) [0x010D879D]\n\tsqlite3_dbdata_init [0x01749A63+4064547]\n\tsqlite3_dbdata_init [0x0175106A+4094762]\n\tsqlite3_dbdata_init [0x0174B968+4072488]\n\tsqlite3_dbdata_init [0x0144C9C9+930953]\n\t(No symbol) [0x012107E4]\n\t(No symbol) [0x0120AD08]\n\t(No symbol) [0x0120AE31]\n\t(No symbol) [0x011FCAA0]\n\tBaseThreadInitThunk [0x76AF7BA9+25]\n\tRtlInitializeExceptionChain [0x77D2BDAB+107]\n\tRtlClearBits [0x77D2BD2F+191]\n",
     "output_type": "error",
     "traceback": [
      "\u001b[1;31m---------------------------------------------------------------------------\u001b[0m",
      "\u001b[1;31mNoSuchWindowException\u001b[0m                     Traceback (most recent call last)",
      "Cell \u001b[1;32mIn[85], line 22\u001b[0m\n\u001b[0;32m     20\u001b[0m \u001b[38;5;28;01mfor\u001b[39;00m idx, url \u001b[38;5;129;01min\u001b[39;00m \u001b[38;5;28menumerate\u001b[39m(urls, start\u001b[38;5;241m=\u001b[39m\u001b[38;5;241m1\u001b[39m):\n\u001b[0;32m     21\u001b[0m     \u001b[38;5;28mprint\u001b[39m(url)\n\u001b[1;32m---> 22\u001b[0m     \u001b[43mbrowser\u001b[49m\u001b[38;5;241;43m.\u001b[39;49m\u001b[43mget\u001b[49m\u001b[43m(\u001b[49m\u001b[43murl\u001b[49m\u001b[43m)\u001b[49m\n\u001b[0;32m     23\u001b[0m     browser\u001b[38;5;241m.\u001b[39mimplicitly_wait(\u001b[38;5;241m5\u001b[39m)\n\u001b[0;32m     25\u001b[0m     \u001b[38;5;66;03m#pop up 닫기\u001b[39;00m\n",
      "File \u001b[1;32mc:\\classes\\project\\mini-project\\DA35-2nd-TwoDev-PetInfo\\env\\Lib\\site-packages\\selenium\\webdriver\\remote\\webdriver.py:356\u001b[0m, in \u001b[0;36mWebDriver.get\u001b[1;34m(self, url)\u001b[0m\n\u001b[0;32m    354\u001b[0m \u001b[38;5;28;01mdef\u001b[39;00m \u001b[38;5;21mget\u001b[39m(\u001b[38;5;28mself\u001b[39m, url: \u001b[38;5;28mstr\u001b[39m) \u001b[38;5;241m-\u001b[39m\u001b[38;5;241m>\u001b[39m \u001b[38;5;28;01mNone\u001b[39;00m:\n\u001b[0;32m    355\u001b[0m \u001b[38;5;250m    \u001b[39m\u001b[38;5;124;03m\"\"\"Loads a web page in the current browser session.\"\"\"\u001b[39;00m\n\u001b[1;32m--> 356\u001b[0m     \u001b[38;5;28;43mself\u001b[39;49m\u001b[38;5;241;43m.\u001b[39;49m\u001b[43mexecute\u001b[49m\u001b[43m(\u001b[49m\u001b[43mCommand\u001b[49m\u001b[38;5;241;43m.\u001b[39;49m\u001b[43mGET\u001b[49m\u001b[43m,\u001b[49m\u001b[43m \u001b[49m\u001b[43m{\u001b[49m\u001b[38;5;124;43m\"\u001b[39;49m\u001b[38;5;124;43murl\u001b[39;49m\u001b[38;5;124;43m\"\u001b[39;49m\u001b[43m:\u001b[49m\u001b[43m \u001b[49m\u001b[43murl\u001b[49m\u001b[43m}\u001b[49m\u001b[43m)\u001b[49m\n",
      "File \u001b[1;32mc:\\classes\\project\\mini-project\\DA35-2nd-TwoDev-PetInfo\\env\\Lib\\site-packages\\selenium\\webdriver\\remote\\webdriver.py:347\u001b[0m, in \u001b[0;36mWebDriver.execute\u001b[1;34m(self, driver_command, params)\u001b[0m\n\u001b[0;32m    345\u001b[0m response \u001b[38;5;241m=\u001b[39m \u001b[38;5;28mself\u001b[39m\u001b[38;5;241m.\u001b[39mcommand_executor\u001b[38;5;241m.\u001b[39mexecute(driver_command, params)\n\u001b[0;32m    346\u001b[0m \u001b[38;5;28;01mif\u001b[39;00m response:\n\u001b[1;32m--> 347\u001b[0m     \u001b[38;5;28;43mself\u001b[39;49m\u001b[38;5;241;43m.\u001b[39;49m\u001b[43merror_handler\u001b[49m\u001b[38;5;241;43m.\u001b[39;49m\u001b[43mcheck_response\u001b[49m\u001b[43m(\u001b[49m\u001b[43mresponse\u001b[49m\u001b[43m)\u001b[49m\n\u001b[0;32m    348\u001b[0m     response[\u001b[38;5;124m\"\u001b[39m\u001b[38;5;124mvalue\u001b[39m\u001b[38;5;124m\"\u001b[39m] \u001b[38;5;241m=\u001b[39m \u001b[38;5;28mself\u001b[39m\u001b[38;5;241m.\u001b[39m_unwrap_value(response\u001b[38;5;241m.\u001b[39mget(\u001b[38;5;124m\"\u001b[39m\u001b[38;5;124mvalue\u001b[39m\u001b[38;5;124m\"\u001b[39m, \u001b[38;5;28;01mNone\u001b[39;00m))\n\u001b[0;32m    349\u001b[0m     \u001b[38;5;28;01mreturn\u001b[39;00m response\n",
      "File \u001b[1;32mc:\\classes\\project\\mini-project\\DA35-2nd-TwoDev-PetInfo\\env\\Lib\\site-packages\\selenium\\webdriver\\remote\\errorhandler.py:229\u001b[0m, in \u001b[0;36mErrorHandler.check_response\u001b[1;34m(self, response)\u001b[0m\n\u001b[0;32m    227\u001b[0m         alert_text \u001b[38;5;241m=\u001b[39m value[\u001b[38;5;124m\"\u001b[39m\u001b[38;5;124malert\u001b[39m\u001b[38;5;124m\"\u001b[39m]\u001b[38;5;241m.\u001b[39mget(\u001b[38;5;124m\"\u001b[39m\u001b[38;5;124mtext\u001b[39m\u001b[38;5;124m\"\u001b[39m)\n\u001b[0;32m    228\u001b[0m     \u001b[38;5;28;01mraise\u001b[39;00m exception_class(message, screen, stacktrace, alert_text)  \u001b[38;5;66;03m# type: ignore[call-arg]  # mypy is not smart enough here\u001b[39;00m\n\u001b[1;32m--> 229\u001b[0m \u001b[38;5;28;01mraise\u001b[39;00m exception_class(message, screen, stacktrace)\n",
      "\u001b[1;31mNoSuchWindowException\u001b[0m: Message: no such window: target window already closed\nfrom unknown error: web view not found\n  (Session info: chrome=123.0.6312.86)\nStacktrace:\n\tGetHandleVerifier [0x012D4CC3+225091]\n\t(No symbol) [0x01204E11]\n\t(No symbol) [0x010A9A7A]\n\t(No symbol) [0x0108E312]\n\t(No symbol) [0x0110517B]\n\t(No symbol) [0x011155A6]\n\t(No symbol) [0x010FF2F6]\n\t(No symbol) [0x010D79B9]\n\t(No symbol) [0x010D879D]\n\tsqlite3_dbdata_init [0x01749A63+4064547]\n\tsqlite3_dbdata_init [0x0175106A+4094762]\n\tsqlite3_dbdata_init [0x0174B968+4072488]\n\tsqlite3_dbdata_init [0x0144C9C9+930953]\n\t(No symbol) [0x012107E4]\n\t(No symbol) [0x0120AD08]\n\t(No symbol) [0x0120AE31]\n\t(No symbol) [0x011FCAA0]\n\tBaseThreadInitThunk [0x76AF7BA9+25]\n\tRtlInitializeExceptionChain [0x77D2BDAB+107]\n\tRtlClearBits [0x77D2BD2F+191]\n"
     ]
    }
   ],
   "source": [
    "\n",
    "service = Service(executable_path=driver_path)\n",
    "browser = webdriver.Chrome(service=service)#이것이 웹브라우저를 컨트롤 하므로 그냥 브라우져라고 생각해도 됨\n",
    "\n",
    "#브라우저 뜰때까지 5초 대기\n",
    "browser.implicitly_wait(5)\n",
    "\n",
    "# 특정 url로 이동\n",
    "dog_breeds_url = \"https://www.akc.org/dog-breeds/{}\"\n",
    "\n",
    "popup_close_selector = \"body > div.fancybox-overlay.fancybox-overlay-fixed > div > div > a\"\n",
    "breed_img_seletor = \"body > div.cmw.bgc-white.page-single-breed > div:nth-child(2) > div > div.breed-page__sectional-wrapper > div.breed-page__sectional-standard-marking-wrapper > div.breed-page__section.breed-page__section--small.breed-page__standard.my4.bpm-my6 > div > div.breed-page__standard__image > img\"\n",
    "breed_info_selector = \"body > div.cmw.bgc-white.page-single-breed > div:nth-child(2) > div > div.breed-page__about > div > div > div > div.breed-page__about__read-more__text__less\"\n",
    "# 파일에서 읽어온 견종을 dog_breeds_list에 담는다\n",
    "data_path = r\"..\\work_csv\\happy_puppy.csv\"\n",
    "df = pd.read_csv(data_path)\n",
    "dog_breeds_list = df['Breed']\n",
    "urls = [dog_breeds_url.format(breed) for breed in dog_breeds_list]\n",
    "img_src_list = []\n",
    "breed_info_all = []\n",
    "for idx, url in enumerate(urls, start=1):\n",
    "    print(url)\n",
    "    browser.get(url)\n",
    "    browser.implicitly_wait(5)\n",
    "\n",
    "    #pop up 닫기\n",
    "    try:\n",
    "        close_btn = browser.find_element(By.CSS_SELECTOR, popup_close_selector)\n",
    "        if close_btn != None:\n",
    "            close_btn.click()\n",
    "    except:\n",
    "        print(\"팝업 없음\")\n",
    "\n",
    "    # 견종 이미지 url 가져오기\n",
    "    # df['img-src'] = urls\n",
    "    try:\n",
    "        breeds_image_ele = browser.find_element(By.CSS_SELECTOR, breed_img_seletor)\n",
    "        if breeds_image_ele != None:\n",
    "            img_src = breeds_image_ele.get_attribute(\"data-src\")\n",
    "            img_src_list.append(img_src)\n",
    "            print(img_src)\n",
    "            # 이미지 다운로드\n",
    "            res = requests.get(img_src) #user-agent 없어도 됨\n",
    "            split_file_name = img_src.split(\"/\")[-1]\n",
    "            if res.status_code == 200:\n",
    "                file = res.content\n",
    "                file_name = \"..\\work_img\\{0}_{1}\".format(idx, split_file_name)\n",
    "                with open(file_name, \"wb\") as fo:\n",
    "                    fo.write(file)\n",
    "        # 견종정보 가져오기\n",
    "        breeds_info_ele = browser.find_elements(By.CSS_SELECTOR, breed_info_selector)\n",
    "        # print(\"요소길이: \", len(breeds_image_ele))\n",
    "        breed_info_list = \"\"\n",
    "        for info in breeds_info_ele:\n",
    "            print(info.text)\n",
    "            breed_info_list += info.text\n",
    "            \n",
    "        breed_info_all.append(breed_info_list)\n",
    "        time.sleep(4)\n",
    "    except:\n",
    "        print(\"견종정보 못찾음\")\n",
    "        img_src_list.append(\"\")\n",
    "        breed_info_all.append(\"\")\n",
    "\n",
    "df['Img_src'] = img_src_list\n",
    "df['Breed_info'] = breed_info_all\n",
    "df.to_csv(r\"..\\work_csv\\happy_puppy_info.csv\", index=False)\n",
    "browser.close()\n"
   ]
  },
  {
   "cell_type": "code",
   "execution_count": 76,
   "metadata": {},
   "outputs": [],
   "source": [
    "\n",
    "from petrank import get_rankname\n",
    "result = get_rankname()\n",
    "file_path = f\"../work_csv/happy_puppy.csv\"\n",
    "result_df = pd.DataFrame(result)\n",
    "result_df.to_csv(file_path, index=False, header=False) \n"
   ]
  }
 ],
 "metadata": {
  "kernelspec": {
   "display_name": "env",
   "language": "python",
   "name": "python3"
  },
  "language_info": {
   "codemirror_mode": {
    "name": "ipython",
    "version": 3
   },
   "file_extension": ".py",
   "mimetype": "text/x-python",
   "name": "python",
   "nbconvert_exporter": "python",
   "pygments_lexer": "ipython3",
   "version": "3.11.8"
  }
 },
 "nbformat": 4,
 "nbformat_minor": 2
}
